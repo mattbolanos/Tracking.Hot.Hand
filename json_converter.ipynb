{
 "cells": [
  {
   "cell_type": "code",
   "execution_count": 3,
   "metadata": {},
   "outputs": [],
   "source": [
    "import os\n",
    "import sys\n",
    "import json\n",
    "import urllib.request\n",
    "from pyunpack import Archive\n",
    "from bs4 import BeautifulSoup\n",
    "import requests\n",
    "import pandas as pd\n",
    "import re \n",
    "\n",
    "# Store the url as a string scalar: url => str\n",
    "url = \"https://github.com/sealneaward/nba-movement-data/tree/master/data\"\n",
    "\n",
    "# Issue request: r => requests.models.Response\n",
    "r = requests.get(url)\n",
    "\n",
    "# Extract text: html_doc => str\n",
    "html_doc = r.text\n",
    "\n",
    "# Parse the HTML: soup => bs4.BeautifulSoup\n",
    "soup = BeautifulSoup(html_doc)\n",
    "\n",
    "# Find all 'a' tags (which define hyperlinks): a_tags => bs4.element.ResultSet\n",
    "a_tags = soup.find_all('a')\n",
    "\n",
    "# Store a list of urls ending in .csv: urls => list\n",
    "urls = ['https://raw.githubusercontent.com'+re.sub('/blob', '', link.get('href')) \n",
    "        for link in a_tags  if '.7z' in link.get('href')]\n",
    "\n",
    "# Store a list of Data Frame names to be assigned to the list: df_list_names => list\n",
    "df_list_names = [url.split('.7z')[0].split('/')[url.count('/')] for url in urls]\n",
    "\n",
    "file_names = []\n",
    "for file in df_list_names:\n",
    "    if (('GSW' not in file) and ('ATL' not in file) and ('CHA' not in file) and ('MIA' not in file) and \n",
    "        ('ORL' not in file) and ('WAS' not in file) and ('CHI' not in file)\n",
    "       and ('CLE' not in file) and ('DET' not in file) and ('IND' not in file) and ('MIL' not in file)\n",
    "       and ('BOS' not in file) and ('BKN' not in file) and ('TOR' not in file) and ('NYK' not in file) and\n",
    "       ('PHI' not in file) and ('DEN' not in file) and ('MIN' not in file) and ('OKC' not in file) and \n",
    "       ('POR' not in file) and ('UTA' not in file) and ('LAC' not in file) and ('LAL' not in file) and\n",
    "       ('PHX' not in file) and ('SAC' not in file) and ('DAL' not in file) and ('HOU' not in file) and \n",
    "        ('MEM' not in file) and ('NOP' in file)):\n",
    "        file_names.append(file)"
   ]
  },
  {
   "cell_type": "code",
   "execution_count": 4,
   "metadata": {},
   "outputs": [
    {
     "data": {
      "text/plain": [
       "['11.20.2015.SAS.at.NOP']"
      ]
     },
     "execution_count": 4,
     "metadata": {},
     "output_type": "execute_result"
    }
   ],
   "source": [
    "# len(file_names)\n",
    "# file_names"
   ]
  },
  {
   "cell_type": "code",
   "execution_count": 1,
   "metadata": {},
   "outputs": [],
   "source": [
    "count = 0\n",
    "movement_headers = [\"team_id\", \"player_id\", \"x_loc\", \"y_loc\", \"radius\", \"game_clock\", \"shot_clock\", \"quarter\", \"game_id\",\n",
    "                    \"event_id\"]\n",
    "\n",
    "\n",
    "for x in file_names:\n",
    "    urllib.request.urlretrieve(\"https://raw.githubusercontent.com/sealneaward/nba-movement-data/master/data/\"+x+\".7z\", x+\".7z\")\n",
    "    Archive(x+\".7z\").extractall(\"\")\n",
    "    os.remove(x+\".7z\")\n",
    "    data_path = \"/Users/mattbolanos/Desktop/Analytics/Analytics/Tracking.Hot.Hand/cleaning.scripts\"\n",
    "    csv_path = \"/Users/mattbolanos/Desktop/Analytics/Analytics/Tracking.Hot.Hand/cleaning.scripts\"\n",
    "    files = os.listdir(data_path)\n",
    "    for file in files:\n",
    "        if '.json' not in file:\n",
    "            continue\n",
    "        try:\n",
    "            count = count + 1\n",
    "            file_data = open('%s/%s' % (data_path, file))\n",
    "            game_id = file.replace('.json', '')\n",
    "            data = json.load(file_data)\n",
    "            events = data['events']\n",
    "            moments = []\n",
    "\n",
    "            for event in events:\n",
    "                event_id = event['eventId']\n",
    "                movement_data = event['moments']\n",
    "                for moment in movement_data:\n",
    "                    for player in moment[5]:\n",
    "                        player.extend((moment[2], moment[3], moment[0], game_id, event_id))\n",
    "                        moments.append(player)\n",
    "\n",
    "                # movement frame is complete for game\n",
    "            movement = pd.DataFrame(moments, columns=movement_headers)\n",
    "            movement.to_csv('%s/%s.csv' % (csv_path, \"game\"+ game_id), index=False)\n",
    "            os.remove(file)\n",
    "            # movement.to_json('./data/json/' + game_id + '.json', orient='records')\n",
    "\n",
    "        except Exception as e:\n",
    "            print(\"\")\n",
    "            "
   ]
  }
 ],
 "metadata": {
  "kernelspec": {
   "display_name": "Python 3",
   "language": "python",
   "name": "python3"
  },
  "language_info": {
   "codemirror_mode": {
    "name": "ipython",
    "version": 3
   },
   "file_extension": ".py",
   "mimetype": "text/x-python",
   "name": "python",
   "nbconvert_exporter": "python",
   "pygments_lexer": "ipython3",
   "version": "3.9.0"
  }
 },
 "nbformat": 4,
 "nbformat_minor": 4
}
